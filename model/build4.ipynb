{
 "cells": [
  {
   "cell_type": "code",
   "execution_count": 1,
   "id": "a4ff231a-3357-44ab-b29a-baf208eacd7c",
   "metadata": {},
   "outputs": [],
   "source": [
    "import numpy as np\n",
    "from keras.layers import Conv2D, MaxPooling2D, Flatten, Dense, UpSampling2D, Input\n",
    "from keras.models import Model, Sequential\n",
    "from keras.utils import img_to_array, to_categorical\n",
    "from keras import optimizers\n",
    "import cv2\n",
    "from sklearn.model_selection import train_test_split\n",
    "from sklearn.metrics import classification_report, confusion_matrix\n",
    "import seaborn as sns\n",
    "import matplotlib.pyplot as plt\n",
    "from os import listdir\n",
    "\n",
    "# Data loading and preprocessing\n",
    "root_dir = \"D:\\\\FINAL YEAR PROJECT\\\\senior project code\\\\FinalProject\\\\datasets\\\\NEW2\""
   ]
  },
  {
   "cell_type": "code",
   "execution_count": 2,
   "id": "4a70a7af-fd1c-43f1-a05a-cd18517e5a08",
   "metadata": {},
   "outputs": [],
   "source": [
    "# Function to convert an image into a tensor\n",
    "def convert_img_to_tensor(fpath):\n",
    "    img = cv2.imread(fpath)\n",
    "    img = cv2.resize(img, (256, 256))\n",
    "    return img_to_array(img)\n",
    "\n",
    "# Load dataset and label data\n",
    "def get_img_data_and_label(root_dir):\n",
    "    image_dataset = []\n",
    "    image_label = []\n",
    "    classes = listdir(root_dir)\n",
    "    class_mapping = {c: i for i, c in enumerate(classes)}\n",
    "\n",
    "    for cls in classes:\n",
    "        skin_img_list = listdir(f\"{root_dir}/{cls}\")\n",
    "        for imgfile in skin_img_list:\n",
    "            filepath = f\"{root_dir}/{cls}/{imgfile}\"\n",
    "            image_dataset.append(convert_img_to_tensor(filepath))\n",
    "            image_label.append(class_mapping[cls])\n",
    "    \n",
    "    return image_dataset, image_label, len(classes), classes"
   ]
  },
  {
   "cell_type": "code",
   "execution_count": 3,
   "id": "8954d0c0-dbd7-4dc1-8d4f-652de265bc5b",
   "metadata": {},
   "outputs": [],
   "source": [
    "image_dataset, image_labels, no_of_output_layer, classes = get_img_data_and_label(root_dir)"
   ]
  },
  {
   "cell_type": "code",
   "execution_count": 4,
   "id": "ac01efb1-bb90-4cf5-a7ef-fff703261a3c",
   "metadata": {},
   "outputs": [],
   "source": [
    "# Normalize and reshape data\n",
    "image_dataset = np.array(image_dataset, dtype=np.float32) / 255.0\n",
    "image_dataset = image_dataset.reshape(-1, 256, 256, 3)"
   ]
  },
  {
   "cell_type": "code",
   "execution_count": 15,
   "id": "65492470-79fc-4346-8e8e-8cca447bc86d",
   "metadata": {},
   "outputs": [],
   "source": [
    "import tensorflow as tf\n",
    "from tensorflow.keras import Sequential\n",
    "from tensorflow.keras.layers import Conv2D, MaxPooling2D, Flatten, Dense, Reshape, UpSampling2D\n",
    "\n",
    "input_shape = (256, 256, 3)\n",
    "\n",
    "autoencoder = Sequential([\n",
    "    # Encoder\n",
    "    Conv2D(32, (3, 3), activation='relu', padding='same', input_shape=input_shape),\n",
    "    MaxPooling2D((2, 2), padding='same'),\n",
    "\n",
    "    Conv2D(64, (3, 3), activation='relu', padding='same'),\n",
    "    MaxPooling2D((2, 2), padding='same'),\n",
    "\n",
    "    Conv2D(128, (3, 3), activation='relu', padding='same'),\n",
    "    MaxPooling2D((2, 2), padding='same'),\n",
    "\n",
    "    Conv2D(128, (3, 3), activation='relu', padding='same'),\n",
    "    MaxPooling2D((2, 2), padding='same'),\n",
    "\n",
    "    # Encoder to bottleneck\n",
    "    Flatten(),\n",
    "    Dense(64, activation='relu'),  # Bottleneck layer\n",
    "])\n",
    "\n",
    "# Decoder\n",
    "autoencoder.add(Dense(128 * 16 * 16, activation='relu'))  # Restore to the right dimension for reshaping\n",
    "autoencoder.add(Reshape((16, 16, 128)))\n",
    "\n",
    "# Upsample to restore original shape\n",
    "autoencoder.add(UpSampling2D((2, 2)))\n",
    "autoencoder.add(Conv2D(128, (3, 3), activation='relu', padding='same'))\n",
    "\n",
    "autoencoder.add(UpSampling2D((2, 2)))\n",
    "autoencoder.add(Conv2D(128, (3, 3), activation='relu', padding='same'))\n",
    "\n",
    "autoencoder.add(UpSampling2D((2, 2)))\n",
    "autoencoder.add(Conv2D(64, (3, 3), activation='relu', padding='same'))\n",
    "\n",
    "autoencoder.add(UpSampling2D((2, 2)))\n",
    "autoencoder.add(Conv2D(32, (3, 3), activation='relu', padding='same'))\n",
    "\n",
    "# This last step restores the output to the original input shape\n",
    "autoencoder.add(Conv2D(3, (3, 3), activation='sigmoid', padding='same'))\n",
    "\n",
    "# Compile and train\n",
    "autoencoder.compile(optimizer='adam', loss='binary_crossentropy', metrics=['accuracy'])\n"
   ]
  },
  {
   "cell_type": "code",
   "execution_count": 16,
   "id": "6367e261-ad9d-4971-b530-3d15948640d3",
   "metadata": {},
   "outputs": [],
   "source": [
    "autoencoder.compile(optimizer='adam', loss='binary_crossentropy', metrics=['accuracy'])"
   ]
  },
  {
   "cell_type": "code",
   "execution_count": 17,
   "id": "f2ffcd47-7f24-4e5a-94e9-f0e66d80fc5f",
   "metadata": {},
   "outputs": [
    {
     "name": "stdout",
     "output_type": "stream",
     "text": [
      "Epoch 1/10\n",
      "\u001b[1m33/33\u001b[0m \u001b[32m━━━━━━━━━━━━━━━━━━━━\u001b[0m\u001b[37m\u001b[0m \u001b[1m816s\u001b[0m 24s/step - accuracy: 0.2326 - loss: 0.5332 - val_accuracy: 0.0676 - val_loss: 0.2362\n",
      "Epoch 2/10\n",
      "\u001b[1m33/33\u001b[0m \u001b[32m━━━━━━━━━━━━━━━━━━━━\u001b[0m\u001b[37m\u001b[0m \u001b[1m657s\u001b[0m 20s/step - accuracy: 0.2224 - loss: 0.4195 - val_accuracy: 0.1920 - val_loss: 0.1433\n",
      "Epoch 3/10\n",
      "\u001b[1m33/33\u001b[0m \u001b[32m━━━━━━━━━━━━━━━━━━━━\u001b[0m\u001b[37m\u001b[0m \u001b[1m244s\u001b[0m 7s/step - accuracy: 0.4171 - loss: 0.3783 - val_accuracy: 0.4016 - val_loss: 0.1503\n",
      "Epoch 4/10\n",
      "\u001b[1m33/33\u001b[0m \u001b[32m━━━━━━━━━━━━━━━━━━━━\u001b[0m\u001b[37m\u001b[0m \u001b[1m251s\u001b[0m 7s/step - accuracy: 0.4766 - loss: 0.3499 - val_accuracy: 0.7927 - val_loss: 0.1195\n",
      "Epoch 5/10\n",
      "\u001b[1m33/33\u001b[0m \u001b[32m━━━━━━━━━━━━━━━━━━━━\u001b[0m\u001b[37m\u001b[0m \u001b[1m248s\u001b[0m 7s/step - accuracy: 0.6049 - loss: 0.3297 - val_accuracy: 0.6491 - val_loss: 0.1177\n",
      "Epoch 6/10\n",
      "\u001b[1m33/33\u001b[0m \u001b[32m━━━━━━━━━━━━━━━━━━━━\u001b[0m\u001b[37m\u001b[0m \u001b[1m237s\u001b[0m 7s/step - accuracy: 0.5761 - loss: 0.3245 - val_accuracy: 0.1281 - val_loss: 0.1130\n",
      "Epoch 7/10\n",
      "\u001b[1m33/33\u001b[0m \u001b[32m━━━━━━━━━━━━━━━━━━━━\u001b[0m\u001b[37m\u001b[0m \u001b[1m242s\u001b[0m 7s/step - accuracy: 0.4777 - loss: 0.3203 - val_accuracy: 0.8734 - val_loss: 0.1063\n",
      "Epoch 8/10\n",
      "\u001b[1m33/33\u001b[0m \u001b[32m━━━━━━━━━━━━━━━━━━━━\u001b[0m\u001b[37m\u001b[0m \u001b[1m249s\u001b[0m 7s/step - accuracy: 0.6182 - loss: 0.3258 - val_accuracy: 0.6734 - val_loss: 0.1049\n",
      "Epoch 9/10\n",
      "\u001b[1m33/33\u001b[0m \u001b[32m━━━━━━━━━━━━━━━━━━━━\u001b[0m\u001b[37m\u001b[0m \u001b[1m212s\u001b[0m 6s/step - accuracy: 0.5799 - loss: 0.3173 - val_accuracy: 0.8604 - val_loss: 0.1034\n",
      "Epoch 10/10\n",
      "\u001b[1m33/33\u001b[0m \u001b[32m━━━━━━━━━━━━━━━━━━━━\u001b[0m\u001b[37m\u001b[0m \u001b[1m197s\u001b[0m 6s/step - accuracy: 0.6409 - loss: 0.3173 - val_accuracy: 0.7917 - val_loss: 0.1006\n"
     ]
    },
    {
     "data": {
      "text/plain": [
       "<keras.src.callbacks.history.History at 0x2e43c255eb0>"
      ]
     },
     "execution_count": 17,
     "metadata": {},
     "output_type": "execute_result"
    }
   ],
   "source": [
    "# Train the autoencoder\n",
    "autoencoder.fit(image_dataset, image_dataset, epochs=10, batch_size=32, validation_split=0.2, verbose=1)"
   ]
  },
  {
   "cell_type": "code",
   "execution_count": 3,
   "id": "79f59120-b3f8-4b0e-8e95-4afc9937f370",
   "metadata": {},
   "outputs": [
    {
     "ename": "NameError",
     "evalue": "name 'autoencoder' is not defined",
     "output_type": "error",
     "traceback": [
      "\u001b[1;31m---------------------------------------------------------------------------\u001b[0m",
      "\u001b[1;31mNameError\u001b[0m                                 Traceback (most recent call last)",
      "Cell \u001b[1;32mIn[3], line 2\u001b[0m\n\u001b[0;32m      1\u001b[0m \u001b[38;5;66;03m# Extract encoder model\u001b[39;00m\n\u001b[1;32m----> 2\u001b[0m encoder_model \u001b[38;5;241m=\u001b[39m Model(\u001b[43mautoencoder\u001b[49m\u001b[38;5;241m.\u001b[39minput, autoencoder\u001b[38;5;241m.\u001b[39mlayers[\u001b[38;5;241m8\u001b[39m]\u001b[38;5;241m.\u001b[39moutput)  \u001b[38;5;66;03m# The bottleneck layer is the eighth layer\u001b[39;00m\n",
      "\u001b[1;31mNameError\u001b[0m: name 'autoencoder' is not defined"
     ]
    }
   ],
   "source": [
    "# Extract encoder model\n",
    "encoder_model = Model(autoencoder.input, autoencoder.layers[8].output)  # The bottleneck layer is the eighth layer"
   ]
  },
  {
   "cell_type": "code",
   "execution_count": null,
   "id": "5f98eab4-2115-4406-9c36-3a8eca59e135",
   "metadata": {},
   "outputs": [],
   "source": []
  }
 ],
 "metadata": {
  "kernelspec": {
   "display_name": "Python 3 (ipykernel)",
   "language": "python",
   "name": "python3"
  },
  "language_info": {
   "codemirror_mode": {
    "name": "ipython",
    "version": 3
   },
   "file_extension": ".py",
   "mimetype": "text/x-python",
   "name": "python",
   "nbconvert_exporter": "python",
   "pygments_lexer": "ipython3",
   "version": "3.12.3"
  }
 },
 "nbformat": 4,
 "nbformat_minor": 5
}
